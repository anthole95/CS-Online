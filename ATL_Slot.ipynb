{
 "cells": [
  {
   "cell_type": "code",
   "execution_count": 6,
   "metadata": {},
   "outputs": [
    {
     "name": "stdin",
     "output_type": "stream",
     "text": [
      "Hello! Please enter an amount you would like to gamble: $ 234\n"
     ]
    },
    {
     "name": "stdout",
     "output_type": "stream",
     "text": [
      "Spinning machine!\n",
      "['777', '{}', '{}']\n",
      "Bummer! No payout.\n"
     ]
    },
    {
     "name": "stdin",
     "output_type": "stream",
     "text": [
      "Would you like to continue? Y/N n\n"
     ]
    },
    {
     "name": "stdout",
     "output_type": "stream",
     "text": [
      "Thank you for playing! Come back again\n"
     ]
    }
   ],
   "source": [
    "#Casion Slot Machine\n",
    "#Takes user input for gamble amount and spins an imaginary wheel, and if any matches occur...\n",
    "#pays back the user their bet by a multiplier\n",
    "\n",
    "import random\n",
    "\n",
    "#takes user input for bet amount\n",
    "\n",
    "def main():\n",
    "    gamble_credit = float(input('Hello! Please enter an amount you would like to gamble: $'))\n",
    "    slot_machine(gamble_credit)\n",
    "\n",
    "#slot machine function that will determine if user gets a payout or loses\n",
    "def slot_machine(gamble_credit):\n",
    "    #characters that our slot machine will use\n",
    "    slot_machine = ['<>','{}', '777']\n",
    "\n",
    "    #using random library, assign a character to each wheel\n",
    "    wheel_a = [random.choice(slot_machine)]\n",
    "    wheel_b = [random.choice(slot_machine)]\n",
    "    wheel_c = [random.choice(slot_machine)]\n",
    "    #concatenate our three wheels as one var spin\n",
    "    spin = wheel_a + wheel_b + wheel_c \n",
    "    print('Spinning machine!')\n",
    "    print(spin)\n",
    "    \n",
    "    #statements that check if spin produces any matches, if it does, user is paid out accordingly\n",
    "    if spin == ['<>', '<>', '<>']:\n",
    "        gamble_credit *= 1.25\n",
    "        print ('Congrats! You won $', gamble_credit, '!')\n",
    "    elif spin == ['{}', '{}', '{}']:\n",
    "        gamble_credit *= 1.5\n",
    "        print ('Congrats! You won $', gamble_credit, '!')\n",
    "    elif spin == ['777', '777', '777']:\n",
    "        gamble_credit *= 2.00\n",
    "        print ('JACKPOT! You won $', gamble_credit, '!')\n",
    "    else:\n",
    "        gamble_credit *= 0\n",
    "        print ('Bummer! No payout.')\n",
    "    #ask user if they would like to continue spinning or exit\n",
    "    repeat = str(input(\"Would you like to continue? Y/N\"))\n",
    "    repeat = repeat.capitalize()\n",
    "    if repeat == 'Y':\n",
    "        main()\n",
    "    if repeat == 'N':\n",
    "        print ('Thank you for playing! Come back again')\n",
    "        return\n",
    "    \n",
    "main()\n"
   ]
  },
  {
   "cell_type": "code",
   "execution_count": null,
   "metadata": {},
   "outputs": [],
   "source": []
  },
  {
   "cell_type": "code",
   "execution_count": null,
   "metadata": {},
   "outputs": [],
   "source": []
  }
 ],
 "metadata": {
  "kernelspec": {
   "display_name": "Python 3",
   "language": "python",
   "name": "python3"
  },
  "language_info": {
   "codemirror_mode": {
    "name": "ipython",
    "version": 3
   },
   "file_extension": ".py",
   "mimetype": "text/x-python",
   "name": "python",
   "nbconvert_exporter": "python",
   "pygments_lexer": "ipython3",
   "version": "3.8.5"
  }
 },
 "nbformat": 4,
 "nbformat_minor": 4
}
