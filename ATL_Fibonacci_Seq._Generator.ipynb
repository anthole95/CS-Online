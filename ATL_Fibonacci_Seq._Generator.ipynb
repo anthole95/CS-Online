{
 "cells": [
  {
   "cell_type": "code",
   "execution_count": null,
   "metadata": {},
   "outputs": [
    {
     "name": "stdin",
     "output_type": "stream",
     "text": [
      "How many numbers of the Fibonacci Sequence would you like to print? 10\n"
     ]
    },
    {
     "name": "stdout",
     "output_type": "stream",
     "text": [
      "1 1 have a ratio of: 1.0\n",
      "1 2 have a ratio of: 2.0\n",
      "2 3 have a ratio of: 1.5\n",
      "3 5 have a ratio of: 1.6666666666666667\n",
      "5 8 have a ratio of: 1.6\n",
      "8 13 have a ratio of: 1.625\n",
      "13 21 have a ratio of: 1.6153846153846154\n",
      "21 34 have a ratio of: 1.619047619047619\n",
      "34 55 have a ratio of: 1.6176470588235294\n",
      "55 89 have a ratio of: 1.6181818181818182\n",
      "Hello, please enter your own numbers that you would like to start off your Fibonacci Sequence with.\n"
     ]
    }
   ],
   "source": [
    "##Fibonacci Generator\n",
    "#Ask user how many number =s of the sequence they would like the program to print while...\n",
    "#showing the ratio between each term growing closer to the golden ratio\n",
    "\n",
    "def fib_generator():\n",
    "    nth = int(input(\"How many numbers of the Fibonacci Sequence would you like to print?\")) #assigns user input to variable nth and converts to int\n",
    "    fn1 = 0 #assign value 0 to variable fn1\n",
    "    fn2 = 1 #assign value 1 to variable fn2\n",
    "    ##reference: F.S = sum of all previous number in sequence = xn = xn-1 + xn-2\n",
    "    ## 0, 1, 1, 2, 3, 5, 8, 13, 21 [...]\n",
    "    if nth == 1: #prints fn1 if user gives input = 1\n",
    "        print(fn1)\n",
    "    else: #prints out Fib. Seq. of range nth\n",
    "        for n in range(nth):\n",
    "            fbn = fn1 + fn2 #assigns fbn value of fn1 + fn2\n",
    "            fn1 = fn2 #assigns fn1 value of fn2\n",
    "            fn2 = fbn #assigns fn2 value of fbn \n",
    "            print(fn1, fn2, \"have a ratio of:\", fn2/fn1) #prints out fn1 and fn2 and the ratio between those two variables\n",
    "\n",
    "fib_generator()\n",
    "\n",
    "#Allows user to start their own Fibonacci Sequence with any two numbers while...\n",
    "#showing the ratio between each term growing closer to the golden ratio\n",
    "def custom_fib_generator():\n",
    "    print (\"Hello, please enter your own numbers that you would like to start off your Fibonacci Sequence with.\") \n",
    "    n1 = float(input(\"What is the first number?\")) #assigns user input to variable n1 and converts to float\n",
    "    n2 = float(input(\"What is the second number?\")) #assigns user input to variable n2 and converts to float\n",
    "    nth = int(input(\"How many numbers of the Fibonacci Sequence would you like to print?\")) #assigns user input to variable nth and converts to int\n",
    "    fn1 = n1 #assigns n1 to fn1\n",
    "    fn2 = n2 #assigns n2 to fn2\n",
    "    ##reference: F.S = sum of all previous number in sequence = xn = xn-1 + xn-2\n",
    "    ## 0, 1, 1, 2, 3, 5, 8, 13, 21 [...]\n",
    "    if nth == 1: #prints fn1 if user gives input = 1\n",
    "        print(fn1)\n",
    "    else: #prints out Fib. Seq. of range nth\n",
    "        for n in range(nth):\n",
    "            fbm = 0 + fn1\n",
    "            fbn = fn1 + fn2 #assigns fbn value of fn1 + fn2\n",
    "            fn1 = fn2 #assigns fn1 value of fn2\n",
    "            fn2 = fbn #assigns fn2 value of fbn \n",
    "            print(fbm, fn1)\n",
    "            print(\"have a ratio of:\", fn1/fbm) #prints out fn1 and fn2 and the ratio between those two variables\n",
    "\n",
    "custom_fib_generator()"
   ]
  },
  {
   "cell_type": "code",
   "execution_count": null,
   "metadata": {},
   "outputs": [],
   "source": []
  }
 ],
 "metadata": {
  "kernelspec": {
   "display_name": "Python 3",
   "language": "python",
   "name": "python3"
  },
  "language_info": {
   "codemirror_mode": {
    "name": "ipython",
    "version": 3
   },
   "file_extension": ".py",
   "mimetype": "text/x-python",
   "name": "python",
   "nbconvert_exporter": "python",
   "pygments_lexer": "ipython3",
   "version": "3.8.5"
  }
 },
 "nbformat": 4,
 "nbformat_minor": 4
}
